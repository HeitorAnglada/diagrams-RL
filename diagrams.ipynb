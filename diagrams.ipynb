{
  "cells": [
    {
      "cell_type": "code",
      "execution_count": 2,
      "metadata": {
        "colab": {
          "base_uri": "https://localhost:8080/",
          "height": 582
        },
        "id": "VA2v1VN6kXU9",
        "outputId": "6c7bc389-4ead-44bc-a45c-c66424ddbb03"
      },
      "outputs": [
        {
          "data": {
            "image/png": "[encoded data removed]",
            "text/plain": [
              "<Figure size 432x288 with 1 Axes>"
            ]
          },
          "metadata": {},
          "output_type": "display_data"
        }
      ],
      "source": [
        "import networkx as nx\n",
        "import matplotlib.pyplot as plt\n",
        "\n",
        "# Define os estados e transições com rótulos e pesos\n",
        "states = ['Infeliz', 'Feliz']\n",
        "transitions = [\n",
        "    ('Infeliz', 'Feliz', '+4, 0.2'),\n",
        "    ('Feliz', 'Infeliz', '-1, 0.1'),\n",
        "    # Adicione todas as outras transições aqui, com seus respectivos rótulos e pesos\n",
        "]\n",
        "\n",
        "# Criar um gráfico direcionado\n",
        "G = nx.DiGraph()\n",
        "\n",
        "# Adicionar estados e transições ao gráfico\n",
        "for state in states:\n",
        "    G.add_node(state)\n",
        "\n",
        "for src, dst, label in transitions:\n",
        "    G.add_edge(src, dst, label=label)\n",
        "\n",
        "# Posicionamento dos nós usando um layout circular\n",
        "pos = nx.circular_layout(G)\n",
        "\n",
        "# Desenhar nós\n",
        "nx.draw(G, pos, with_labels=True, node_size=3000, node_color='lightblue', font_size=10)\n",
        "\n",
        "# Desenhar arestas com rótulos\n",
        "edge_labels = nx.get_edge_attributes(G, 'label')\n",
        "nx.draw_networkx_edge_labels(G, pos, edge_labels=edge_labels)\n",
        "\n",
        "# Mostrar o gráfico\n",
        "plt.show()\n"
      ]
    }
  ],
  "metadata": {
    "colab": {
      "provenance": []
    },
    "kernelspec": {
      "display_name": "Python 3",
      "name": "python3"
    },
    "language_info": {
      "codemirror_mode": {
        "name": "ipython",
        "version": 3
      },
      "file_extension": ".py",
      "mimetype": "text/x-python",
      "name": "python",
      "nbconvert_exporter": "python",
      "pygments_lexer": "ipython3",
      "version": "3.8.10"
    }
  },
  "nbformat": 4,
  "nbformat_minor": 0
}
